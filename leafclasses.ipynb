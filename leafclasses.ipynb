{
 "cells": [
  {
   "cell_type": "code",
   "execution_count": 1,
   "metadata": {},
   "outputs": [
    {
     "data": {
      "text/html": [
       "<div>\n",
       "<table border=\"1\" class=\"dataframe\">\n",
       "  <thead>\n",
       "    <tr style=\"text-align: right;\">\n",
       "      <th></th>\n",
       "      <th>id</th>\n",
       "      <th>species</th>\n",
       "      <th>margin1</th>\n",
       "      <th>margin2</th>\n",
       "      <th>margin3</th>\n",
       "      <th>margin4</th>\n",
       "      <th>margin5</th>\n",
       "      <th>margin6</th>\n",
       "      <th>margin7</th>\n",
       "      <th>margin8</th>\n",
       "      <th>...</th>\n",
       "      <th>texture55</th>\n",
       "      <th>texture56</th>\n",
       "      <th>texture57</th>\n",
       "      <th>texture58</th>\n",
       "      <th>texture59</th>\n",
       "      <th>texture60</th>\n",
       "      <th>texture61</th>\n",
       "      <th>texture62</th>\n",
       "      <th>texture63</th>\n",
       "      <th>texture64</th>\n",
       "    </tr>\n",
       "  </thead>\n",
       "  <tbody>\n",
       "    <tr>\n",
       "      <th>0</th>\n",
       "      <td>1</td>\n",
       "      <td>Acer_Opalus</td>\n",
       "      <td>0.007812</td>\n",
       "      <td>0.023438</td>\n",
       "      <td>0.023438</td>\n",
       "      <td>0.003906</td>\n",
       "      <td>0.011719</td>\n",
       "      <td>0.009766</td>\n",
       "      <td>0.027344</td>\n",
       "      <td>0.0</td>\n",
       "      <td>...</td>\n",
       "      <td>0.007812</td>\n",
       "      <td>0.000000</td>\n",
       "      <td>0.002930</td>\n",
       "      <td>0.002930</td>\n",
       "      <td>0.035156</td>\n",
       "      <td>0.0</td>\n",
       "      <td>0.0</td>\n",
       "      <td>0.004883</td>\n",
       "      <td>0.000000</td>\n",
       "      <td>0.025391</td>\n",
       "    </tr>\n",
       "    <tr>\n",
       "      <th>1</th>\n",
       "      <td>2</td>\n",
       "      <td>Pterocarya_Stenoptera</td>\n",
       "      <td>0.005859</td>\n",
       "      <td>0.000000</td>\n",
       "      <td>0.031250</td>\n",
       "      <td>0.015625</td>\n",
       "      <td>0.025391</td>\n",
       "      <td>0.001953</td>\n",
       "      <td>0.019531</td>\n",
       "      <td>0.0</td>\n",
       "      <td>...</td>\n",
       "      <td>0.000977</td>\n",
       "      <td>0.000000</td>\n",
       "      <td>0.000000</td>\n",
       "      <td>0.000977</td>\n",
       "      <td>0.023438</td>\n",
       "      <td>0.0</td>\n",
       "      <td>0.0</td>\n",
       "      <td>0.000977</td>\n",
       "      <td>0.039062</td>\n",
       "      <td>0.022461</td>\n",
       "    </tr>\n",
       "    <tr>\n",
       "      <th>2</th>\n",
       "      <td>3</td>\n",
       "      <td>Quercus_Hartwissiana</td>\n",
       "      <td>0.005859</td>\n",
       "      <td>0.009766</td>\n",
       "      <td>0.019531</td>\n",
       "      <td>0.007812</td>\n",
       "      <td>0.003906</td>\n",
       "      <td>0.005859</td>\n",
       "      <td>0.068359</td>\n",
       "      <td>0.0</td>\n",
       "      <td>...</td>\n",
       "      <td>0.154300</td>\n",
       "      <td>0.000000</td>\n",
       "      <td>0.005859</td>\n",
       "      <td>0.000977</td>\n",
       "      <td>0.007812</td>\n",
       "      <td>0.0</td>\n",
       "      <td>0.0</td>\n",
       "      <td>0.000000</td>\n",
       "      <td>0.020508</td>\n",
       "      <td>0.002930</td>\n",
       "    </tr>\n",
       "    <tr>\n",
       "      <th>3</th>\n",
       "      <td>5</td>\n",
       "      <td>Tilia_Tomentosa</td>\n",
       "      <td>0.000000</td>\n",
       "      <td>0.003906</td>\n",
       "      <td>0.023438</td>\n",
       "      <td>0.005859</td>\n",
       "      <td>0.021484</td>\n",
       "      <td>0.019531</td>\n",
       "      <td>0.023438</td>\n",
       "      <td>0.0</td>\n",
       "      <td>...</td>\n",
       "      <td>0.000000</td>\n",
       "      <td>0.000977</td>\n",
       "      <td>0.000000</td>\n",
       "      <td>0.000000</td>\n",
       "      <td>0.020508</td>\n",
       "      <td>0.0</td>\n",
       "      <td>0.0</td>\n",
       "      <td>0.017578</td>\n",
       "      <td>0.000000</td>\n",
       "      <td>0.047852</td>\n",
       "    </tr>\n",
       "    <tr>\n",
       "      <th>4</th>\n",
       "      <td>6</td>\n",
       "      <td>Quercus_Variabilis</td>\n",
       "      <td>0.005859</td>\n",
       "      <td>0.003906</td>\n",
       "      <td>0.048828</td>\n",
       "      <td>0.009766</td>\n",
       "      <td>0.013672</td>\n",
       "      <td>0.015625</td>\n",
       "      <td>0.005859</td>\n",
       "      <td>0.0</td>\n",
       "      <td>...</td>\n",
       "      <td>0.096680</td>\n",
       "      <td>0.000000</td>\n",
       "      <td>0.021484</td>\n",
       "      <td>0.000000</td>\n",
       "      <td>0.000000</td>\n",
       "      <td>0.0</td>\n",
       "      <td>0.0</td>\n",
       "      <td>0.000000</td>\n",
       "      <td>0.000000</td>\n",
       "      <td>0.031250</td>\n",
       "    </tr>\n",
       "  </tbody>\n",
       "</table>\n",
       "<p>5 rows × 194 columns</p>\n",
       "</div>"
      ],
      "text/plain": [
       "   id                species   margin1   margin2   margin3   margin4  \\\n",
       "0   1            Acer_Opalus  0.007812  0.023438  0.023438  0.003906   \n",
       "1   2  Pterocarya_Stenoptera  0.005859  0.000000  0.031250  0.015625   \n",
       "2   3   Quercus_Hartwissiana  0.005859  0.009766  0.019531  0.007812   \n",
       "3   5        Tilia_Tomentosa  0.000000  0.003906  0.023438  0.005859   \n",
       "4   6     Quercus_Variabilis  0.005859  0.003906  0.048828  0.009766   \n",
       "\n",
       "    margin5   margin6   margin7  margin8    ...      texture55  texture56  \\\n",
       "0  0.011719  0.009766  0.027344      0.0    ...       0.007812   0.000000   \n",
       "1  0.025391  0.001953  0.019531      0.0    ...       0.000977   0.000000   \n",
       "2  0.003906  0.005859  0.068359      0.0    ...       0.154300   0.000000   \n",
       "3  0.021484  0.019531  0.023438      0.0    ...       0.000000   0.000977   \n",
       "4  0.013672  0.015625  0.005859      0.0    ...       0.096680   0.000000   \n",
       "\n",
       "   texture57  texture58  texture59  texture60  texture61  texture62  \\\n",
       "0   0.002930   0.002930   0.035156        0.0        0.0   0.004883   \n",
       "1   0.000000   0.000977   0.023438        0.0        0.0   0.000977   \n",
       "2   0.005859   0.000977   0.007812        0.0        0.0   0.000000   \n",
       "3   0.000000   0.000000   0.020508        0.0        0.0   0.017578   \n",
       "4   0.021484   0.000000   0.000000        0.0        0.0   0.000000   \n",
       "\n",
       "   texture63  texture64  \n",
       "0   0.000000   0.025391  \n",
       "1   0.039062   0.022461  \n",
       "2   0.020508   0.002930  \n",
       "3   0.000000   0.047852  \n",
       "4   0.000000   0.031250  \n",
       "\n",
       "[5 rows x 194 columns]"
      ]
     },
     "execution_count": 1,
     "metadata": {},
     "output_type": "execute_result"
    }
   ],
   "source": [
    "import numpy as np\n",
    "import pandas as pd\n",
    "import tensorflow as tf\n",
    "\n",
    "train_data = pd.read_csv(\"data/train.csv\")\n",
    "train_data.head()"
   ]
  },
  {
   "cell_type": "code",
   "execution_count": 10,
   "metadata": {},
   "outputs": [
    {
     "data": {
      "text/plain": [
       "(990, 194)"
      ]
     },
     "execution_count": 10,
     "metadata": {},
     "output_type": "execute_result"
    }
   ],
   "source": [
    "train_data.shape"
   ]
  },
  {
   "cell_type": "code",
   "execution_count": 2,
   "metadata": {},
   "outputs": [
    {
     "data": {
      "text/plain": [
       "id             int64\n",
       "species       object\n",
       "margin1      float64\n",
       "margin2      float64\n",
       "margin3      float64\n",
       "margin4      float64\n",
       "margin5      float64\n",
       "margin6      float64\n",
       "margin7      float64\n",
       "margin8      float64\n",
       "margin9      float64\n",
       "margin10     float64\n",
       "margin11     float64\n",
       "margin12     float64\n",
       "margin13     float64\n",
       "margin14     float64\n",
       "margin15     float64\n",
       "margin16     float64\n",
       "margin17     float64\n",
       "margin18     float64\n",
       "margin19     float64\n",
       "margin20     float64\n",
       "margin21     float64\n",
       "margin22     float64\n",
       "margin23     float64\n",
       "margin24     float64\n",
       "margin25     float64\n",
       "margin26     float64\n",
       "margin27     float64\n",
       "margin28     float64\n",
       "              ...   \n",
       "texture35    float64\n",
       "texture36    float64\n",
       "texture37    float64\n",
       "texture38    float64\n",
       "texture39    float64\n",
       "texture40    float64\n",
       "texture41    float64\n",
       "texture42    float64\n",
       "texture43    float64\n",
       "texture44    float64\n",
       "texture45    float64\n",
       "texture46    float64\n",
       "texture47    float64\n",
       "texture48    float64\n",
       "texture49    float64\n",
       "texture50    float64\n",
       "texture51    float64\n",
       "texture52    float64\n",
       "texture53    float64\n",
       "texture54    float64\n",
       "texture55    float64\n",
       "texture56    float64\n",
       "texture57    float64\n",
       "texture58    float64\n",
       "texture59    float64\n",
       "texture60    float64\n",
       "texture61    float64\n",
       "texture62    float64\n",
       "texture63    float64\n",
       "texture64    float64\n",
       "dtype: object"
      ]
     },
     "execution_count": 2,
     "metadata": {},
     "output_type": "execute_result"
    }
   ],
   "source": [
    "train_data.dtypes"
   ]
  },
  {
   "cell_type": "code",
   "execution_count": 3,
   "metadata": {},
   "outputs": [
    {
     "data": {
      "text/plain": [
       "id           False\n",
       "species      False\n",
       "margin1      False\n",
       "margin2      False\n",
       "margin3      False\n",
       "margin4      False\n",
       "margin5      False\n",
       "margin6      False\n",
       "margin7      False\n",
       "margin8      False\n",
       "margin9      False\n",
       "margin10     False\n",
       "margin11     False\n",
       "margin12     False\n",
       "margin13     False\n",
       "margin14     False\n",
       "margin15     False\n",
       "margin16     False\n",
       "margin17     False\n",
       "margin18     False\n",
       "margin19     False\n",
       "margin20     False\n",
       "margin21     False\n",
       "margin22     False\n",
       "margin23     False\n",
       "margin24     False\n",
       "margin25     False\n",
       "margin26     False\n",
       "margin27     False\n",
       "margin28     False\n",
       "             ...  \n",
       "texture35    False\n",
       "texture36    False\n",
       "texture37    False\n",
       "texture38    False\n",
       "texture39    False\n",
       "texture40    False\n",
       "texture41    False\n",
       "texture42    False\n",
       "texture43    False\n",
       "texture44    False\n",
       "texture45    False\n",
       "texture46    False\n",
       "texture47    False\n",
       "texture48    False\n",
       "texture49    False\n",
       "texture50    False\n",
       "texture51    False\n",
       "texture52    False\n",
       "texture53    False\n",
       "texture54    False\n",
       "texture55    False\n",
       "texture56    False\n",
       "texture57    False\n",
       "texture58    False\n",
       "texture59    False\n",
       "texture60    False\n",
       "texture61    False\n",
       "texture62    False\n",
       "texture63    False\n",
       "texture64    False\n",
       "dtype: bool"
      ]
     },
     "execution_count": 3,
     "metadata": {},
     "output_type": "execute_result"
    }
   ],
   "source": [
    "pd.isnull(train_data).any()\n"
   ]
  },
  {
   "cell_type": "code",
   "execution_count": 4,
   "metadata": {},
   "outputs": [
    {
     "data": {
      "text/plain": [
       "Quercus_Infectoria_sub          10\n",
       "Alnus_Sieboldiana               10\n",
       "Acer_Palmatum                   10\n",
       "Quercus_Vulcanica               10\n",
       "Callicarpa_Bodinieri            10\n",
       "Eucalyptus_Glaucescens          10\n",
       "Quercus_Cerris                  10\n",
       "Acer_Pictum                     10\n",
       "Ilex_Cornuta                    10\n",
       "Morus_Nigra                     10\n",
       "Cornus_Controversa              10\n",
       "Eucalyptus_Urnigera             10\n",
       "Cornus_Macrophylla              10\n",
       "Quercus_Pyrenaica               10\n",
       "Betula_Pendula                  10\n",
       "Alnus_Maximowiczii              10\n",
       "Cercis_Siliquastrum             10\n",
       "Quercus_Phillyraeoides          10\n",
       "Quercus_Rubra                   10\n",
       "Acer_Rubrum                     10\n",
       "Quercus_Semecarpifolia          10\n",
       "Zelkova_Serrata                 10\n",
       "Quercus_Afares                  10\n",
       "Quercus_Ellipsoidalis           10\n",
       "Tilia_Platyphyllos              10\n",
       "Pterocarya_Stenoptera           10\n",
       "Quercus_Crassifolia             10\n",
       "Olea_Europaea                   10\n",
       "Tilia_Oliveri                   10\n",
       "Cotinus_Coggygria               10\n",
       "                                ..\n",
       "Prunus_Avium                    10\n",
       "Quercus_Crassipes               10\n",
       "Prunus_X_Shmittii               10\n",
       "Acer_Opalus                     10\n",
       "Acer_Circinatum                 10\n",
       "Ulmus_Bergmanniana              10\n",
       "Alnus_Rubra                     10\n",
       "Quercus_Castaneifolia           10\n",
       "Quercus_Pubescens               10\n",
       "Quercus_Alnifolia               10\n",
       "Liriodendron_Tulipifera         10\n",
       "Quercus_Brantii                 10\n",
       "Fagus_Sylvatica                 10\n",
       "Quercus_Palustris               10\n",
       "Viburnum_x_Rhytidophylloides    10\n",
       "Quercus_Ilex                    10\n",
       "Castanea_Sativa                 10\n",
       "Betula_Austrosinensis           10\n",
       "Ginkgo_Biloba                   10\n",
       "Quercus_Suber                   10\n",
       "Quercus_x_Turneri               10\n",
       "Quercus_Agrifolia               10\n",
       "Crataegus_Monogyna              10\n",
       "Populus_Adenopoda               10\n",
       "Quercus_Coccinea                10\n",
       "Salix_Fragilis                  10\n",
       "Acer_Mono                       10\n",
       "Quercus_Variabilis              10\n",
       "Cornus_Chinensis                10\n",
       "Magnolia_Salicifolia            10\n",
       "Name: species, dtype: int64"
      ]
     },
     "execution_count": 4,
     "metadata": {},
     "output_type": "execute_result"
    }
   ],
   "source": [
    "train_data['species'].value_counts()"
   ]
  },
  {
   "cell_type": "code",
   "execution_count": 14,
   "metadata": {},
   "outputs": [
    {
     "data": {
      "text/plain": [
       "99"
      ]
     },
     "execution_count": 14,
     "metadata": {},
     "output_type": "execute_result"
    }
   ],
   "source": [
    "no_of_classes=len(train_data.species.unique())\n",
    "no_of_classes"
   ]
  },
  {
   "cell_type": "code",
   "execution_count": 18,
   "metadata": {
    "collapsed": true
   },
   "outputs": [],
   "source": [
    "import matplotlib.pyplot as plt\n",
    "%matplotlib inline\n",
    "#plt.scatter(train_data.margin1, train_data.texture1, c= float(train_data.species))"
   ]
  },
  {
   "cell_type": "code",
   "execution_count": 19,
   "metadata": {},
   "outputs": [
    {
     "data": {
      "text/plain": [
       "<990x99 sparse matrix of type '<type 'numpy.float64'>'\n",
       "\twith 990 stored elements in Compressed Sparse Row format>"
      ]
     },
     "execution_count": 19,
     "metadata": {},
     "output_type": "execute_result"
    }
   ],
   "source": [
    "from sklearn.preprocessing import OneHotEncoder, LabelEncoder\n",
    "\n",
    "class_enc = LabelEncoder()  \n",
    "encoded_classes=class_enc.fit_transform(train_data['species'])\n",
    "one_hot_enc = OneHotEncoder()\n",
    "one_hot_classes= one_hot_enc.fit_transform(encoded_classes.reshape(-1,1))\n",
    "one_hot_classes"
   ]
  },
  {
   "cell_type": "code",
   "execution_count": 23,
   "metadata": {},
   "outputs": [],
   "source": [
    "no_features_col=train_data.shape[1]-1\n",
    "X = tf.placeholder(tf.float32, shape=[None,no_features_col])\n",
    "y = tf.placeholder(tf.float32)"
   ]
  },
  {
   "cell_type": "code",
   "execution_count": 24,
   "metadata": {},
   "outputs": [],
   "source": [
    "W = tf.Variable(tf.random_normal(shape = [no_features_col,no_of_classes]))\n",
    "b = tf.Variable(tf.random_normal(shape = [no_of_classes]))"
   ]
  },
  {
   "cell_type": "code",
   "execution_count": 25,
   "metadata": {
    "collapsed": true
   },
   "outputs": [],
   "source": [
    "Y = tf.matmul(X,W) + b\n",
    "prediction_probability = tf.nn.softmax(Y)\n",
    "cross_entropy = tf.reduce_mean(-tf.reduce_sum(prediction_probability* tf.log(y), reduction_indices=[1]) )\n",
    "\n"
   ]
  },
  {
   "cell_type": "code",
   "execution_count": 27,
   "metadata": {},
   "outputs": [],
   "source": [
    "optimizer = tf.train.AdamOptimizer().minimize(cross_entropy)\n",
    "is_correct = tf.equal(tf.argmax(prediction_probability,1) , tf.argmax(y,1))    \n",
    "accuracy = tf.reduce_mean(tf.cast(is_correct, tf.float32))"
   ]
  },
  {
   "cell_type": "code",
   "execution_count": null,
   "metadata": {
    "collapsed": true
   },
   "outputs": [],
   "source": []
  }
 ],
 "metadata": {
  "kernelspec": {
   "display_name": "Python 2",
   "language": "python",
   "name": "python2"
  },
  "language_info": {
   "codemirror_mode": {
    "name": "ipython",
    "version": 2
   },
   "file_extension": ".py",
   "mimetype": "text/x-python",
   "name": "python",
   "nbconvert_exporter": "python",
   "pygments_lexer": "ipython2",
   "version": "2.7.12"
  }
 },
 "nbformat": 4,
 "nbformat_minor": 2
}
